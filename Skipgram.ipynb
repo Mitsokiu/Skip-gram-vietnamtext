{
  "nbformat": 4,
  "nbformat_minor": 0,
  "metadata": {
    "colab": {
      "provenance": []
    },
    "kernelspec": {
      "name": "python3",
      "display_name": "Python 3"
    },
    "language_info": {
      "name": "python"
    }
  },
  "cells": [
    {
      "cell_type": "markdown",
      "source": [
        "#Khai báo thư viện"
      ],
      "metadata": {
        "id": "zWxI3jfnyTG-"
      }
    },
    {
      "cell_type": "code",
      "source": [
        "import numpy as np\n",
        "import re\n",
        "import nltk\n",
        "from nltk.tokenize import word_tokenize"
      ],
      "metadata": {
        "id": "oxvJAocr49e0"
      },
      "execution_count": null,
      "outputs": []
    },
    {
      "cell_type": "markdown",
      "source": [
        "#Tiền xử lí dữ liệu\n"
      ],
      "metadata": {
        "id": "0q5TqMDJyZmZ"
      }
    },
    {
      "cell_type": "code",
      "source": [
        "nltk.download('punkt')\n",
        "nltk.download('punkt_tab')\n",
        "\n",
        "with open('vietnamcorpus.txt', 'r', encoding='utf-8') as file:\n",
        "    corpus = file.read()\n",
        "\n",
        "# Chuyển tất cả văn bản thành chữ thường\n",
        "corpus = corpus.lower()\n",
        "\n",
        "# Loại bỏ dấu câu và ký tự đặc biệt\n",
        "corpus = re.sub(r'[^\\w\\s]', '', corpus)\n",
        "\n",
        "# Tách từ\n",
        "tokens = word_tokenize(corpus)\n",
        "\n",
        "# Tạo từ điển từ vựng\n",
        "vocabulary = list(set(tokens))  # Loại bỏ các từ trùng lặp\n",
        "word_to_index = {word: index for index, word in enumerate(vocabulary)}\n",
        "index_to_word = {index: word for word, index in word_to_index.items()}\n",
        "\n",
        "# In ra một vài kết quả để kiểm tra\n",
        "print(\"Vocabulary:\", vocabulary[:10])\n",
        "print(\"Word to Index:\", dict(list(word_to_index.items())[:10]))\n",
        "print(\"Index to Word:\", dict(list(index_to_word.items())[:10]))"
      ],
      "metadata": {
        "colab": {
          "base_uri": "https://localhost:8080/"
        },
        "id": "cYiKi03rsBHg",
        "outputId": "b3a1ddca-6f5a-41a0-c3a4-743da80982c6"
      },
      "execution_count": null,
      "outputs": [
        {
          "output_type": "stream",
          "name": "stdout",
          "text": [
            "Vocabulary: ['nền', 'dành', 'liêm', 'truyền', 'thương', 'tuyệt', 'giá', 'tính', 'liệu', 'tú']\n",
            "Word to Index: {'nền': 0, 'dành': 1, 'liêm': 2, 'truyền': 3, 'thương': 4, 'tuyệt': 5, 'giá': 6, 'tính': 7, 'liệu': 8, 'tú': 9}\n",
            "Index to Word: {0: 'nền', 1: 'dành', 2: 'liêm', 3: 'truyền', 4: 'thương', 5: 'tuyệt', 6: 'giá', 7: 'tính', 8: 'liệu', 9: 'tú'}\n"
          ]
        },
        {
          "output_type": "stream",
          "name": "stderr",
          "text": [
            "[nltk_data] Downloading package punkt to /root/nltk_data...\n",
            "[nltk_data]   Package punkt is already up-to-date!\n",
            "[nltk_data] Downloading package punkt_tab to /root/nltk_data...\n",
            "[nltk_data]   Unzipping tokenizers/punkt_tab.zip.\n"
          ]
        }
      ]
    },
    {
      "cell_type": "markdown",
      "source": [
        "#Tạo dữ liệu huấn luyện"
      ],
      "metadata": {
        "id": "Vj7TvwwZyd8Y"
      }
    },
    {
      "cell_type": "code",
      "source": [
        "import random\n",
        "\n",
        "def generate_training_data(tokens, window_size):\n",
        "    training_data = []\n",
        "    for i in range(window_size, len(tokens) - window_size):\n",
        "        center_word = tokens[i]\n",
        "        context_words = tokens[i - window_size:i] + tokens[i + 1:i + window_size + 1]\n",
        "\n",
        "        for context_word in context_words:\n",
        "            training_data.append((center_word, context_word))\n",
        "\n",
        "    return training_data\n",
        "\n",
        "# Thiết lập kích thước cửa sổ ngữ cảnh\n",
        "window_size = 2\n",
        "\n",
        "# Tạo training_data từ tokens\n",
        "training_data = generate_training_data(tokens, window_size)\n",
        "\n",
        "# Chuyển đổi từ thành chỉ số trong từ điển\n",
        "training_data_indices = [(word_to_index[center_word], word_to_index[context_word])\n",
        "                         for center_word, context_word in training_data]\n",
        "\n",
        "# In một vài cặp trung tâm-ngữ cảnh để kiểm tra\n",
        "print(training_data_indices[:10])\n",
        "\n",
        "# Tạo từ điển ánh xạ chỉ số về từ\n",
        "index_to_word = {idx: word for word, idx in word_to_index.items()}\n",
        "\n",
        "# Tra cứu một vài chỉ số thành từ tương ứng\n",
        "for center_idx, context_idx in training_data_indices[:10]:\n",
        "    print(f\"Center Word: {index_to_word[center_idx]}, Context Word: {index_to_word[context_idx]}\")\n",
        "\n"
      ],
      "metadata": {
        "colab": {
          "base_uri": "https://localhost:8080/"
        },
        "id": "MGkkfiyZu-kv",
        "outputId": "56bc5ad1-11d0-4bac-af10-e2573ff03aea"
      },
      "execution_count": null,
      "outputs": [
        {
          "output_type": "stream",
          "name": "stdout",
          "text": [
            "[(348, 169), (348, 468), (348, 231), (348, 283), (231, 468), (231, 348), (231, 283), (231, 320), (283, 348), (283, 231)]\n",
            "Center Word: huang, Context Word: ông\n",
            "Center Word: huang, Context Word: jensen\n",
            "Center Word: huang, Context Word: nói\n",
            "Center Word: huang, Context Word: nvidia\n",
            "Center Word: nói, Context Word: jensen\n",
            "Center Word: nói, Context Word: huang\n",
            "Center Word: nói, Context Word: nvidia\n",
            "Center Word: nói, Context Word: mua\n",
            "Center Word: nvidia, Context Word: huang\n",
            "Center Word: nvidia, Context Word: nói\n"
          ]
        }
      ]
    },
    {
      "cell_type": "markdown",
      "source": [
        "#Mô hình SkipGram"
      ],
      "metadata": {
        "id": "qAxiwRRjzBXZ"
      }
    },
    {
      "cell_type": "code",
      "source": [
        "class SkipGram:\n",
        "    def __init__(self, vocabulary_size, embedding_dim, learning_rate=0.01):\n",
        "        self.vocabulary_size = vocabulary_size\n",
        "        self.embedding_dim = embedding_dim\n",
        "        self.learning_rate = learning_rate\n",
        "\n",
        "        # Ma trận nhúng W1 (vocabulary_size x embedding_dim)\n",
        "        self.W1 = np.random.randn(self.vocabulary_size, self.embedding_dim)\n",
        "\n",
        "        # Ma trận đầu ra W2 (embedding_dim x vocabulary_size)\n",
        "        self.W2 = np.random.randn(self.embedding_dim, self.vocabulary_size)\n",
        "\n",
        "    def softmax(self, x):\n",
        "        return np.exp(x) / np.sum(np.exp(x), axis=0)\n",
        "\n",
        "    def cross_entropy_loss(self, y_true, y_pred):\n",
        "        return -np.sum(y_true * np.log(y_pred))\n",
        "\n",
        "    def forward(self, center_word_idx, context_word_idx):\n",
        "        # Lấy vector nhúng cho từ trung tâm từ W1\n",
        "        center_word_vector = self.W1[center_word_idx]\n",
        "\n",
        "        # Dự đoán vector cho ngữ cảnh\n",
        "        output = np.dot(center_word_vector, self.W2)\n",
        "\n",
        "        # Áp dụng softmax để tính xác suất cho mỗi từ ngữ cảnh\n",
        "        output = self.softmax(output)\n",
        "\n",
        "        # Tạo one-hot vector cho từ ngữ cảnh\n",
        "        target = np.zeros(self.vocabulary_size)\n",
        "        target[context_word_idx] = 1\n",
        "\n",
        "        # Tính hàm mất mát\n",
        "        loss = self.cross_entropy_loss(target, output)\n",
        "\n",
        "        return loss, output\n",
        "\n",
        "    def backward(self, center_word_idx, context_word_idx, output):\n",
        "        # Tính gradient đối với W2\n",
        "        target = np.zeros(self.vocabulary_size)\n",
        "        target[context_word_idx] = 1\n",
        "        dW2 = np.outer(self.W1[center_word_idx], output - target)\n",
        "\n",
        "        # Tính gradient đối với W1\n",
        "        dW1 = np.dot(self.W2, output - target)\n",
        "\n",
        "        return dW1, dW2\n",
        "\n",
        "    def update_weights(self, dW1, dW2):\n",
        "        # Cập nhật trọng số W1 và W2 theo gradient descent\n",
        "        self.W1 -= self.learning_rate * dW1\n",
        "        self.W2 -= self.learning_rate * dW2\n"
      ],
      "metadata": {
        "id": "JkaEsQ7JuTzz"
      },
      "execution_count": null,
      "outputs": []
    },
    {
      "cell_type": "markdown",
      "source": [
        "#Huấn luyện mô hình"
      ],
      "metadata": {
        "id": "OuR33Oiby-Bm"
      }
    },
    {
      "cell_type": "code",
      "source": [
        "import matplotlib.pyplot as plt\n",
        "\n",
        "embedding_dim = 100\n",
        "epochs = 10\n",
        "learning_rate = 0.01\n",
        "batch_size = 1\n",
        "# Tạo đối tượng mô hình\n",
        "model = SkipGram(vocabulary_size=len(vocabulary), embedding_dim=embedding_dim, learning_rate=learning_rate)\n",
        "\n",
        "# Khởi tạo danh sách lưu trữ giá trị mất mát mỗi epoch\n",
        "losses = []\n",
        "\n",
        "# Huấn luyện mô hình\n",
        "for epoch in range(epochs):\n",
        "    total_loss = 0\n",
        "    for center_word_idx, context_word_idx in training_data_indices:\n",
        "        loss, output = model.forward(center_word_idx, context_word_idx)\n",
        "        total_loss += loss\n",
        "\n",
        "        # Lan truyền ngược\n",
        "        dW1, dW2 = model.backward(center_word_idx, context_word_idx, output)\n",
        "\n",
        "        # Cập nhật trọng số\n",
        "        model.update_weights(dW1, dW2)\n",
        "\n",
        "    losses.append(total_loss)  # Lưu tổng mất mát của epoch\n",
        "\n",
        "    print(f'Epoch {epoch+1}/{epochs}, Loss: {total_loss}')\n",
        "\n",
        "# Vẽ biểu đồ mất mát theo epoch\n",
        "plt.plot(range(1, epochs + 1), losses)\n",
        "plt.xlabel('Epoch')\n",
        "plt.ylabel('Total Loss')\n",
        "plt.title('Loss vs Epochs')\n",
        "plt.show()\n"
      ],
      "metadata": {
        "colab": {
          "base_uri": "https://localhost:8080/",
          "height": 646
        },
        "id": "x98GTNZXLulI",
        "outputId": "140b0272-c049-4706-fe71-2792884ff98a"
      },
      "execution_count": null,
      "outputs": [
        {
          "output_type": "stream",
          "name": "stdout",
          "text": [
            "Epoch 1/10, Loss: 249315.82270392202\n",
            "Epoch 2/10, Loss: 183279.93519262396\n",
            "Epoch 3/10, Loss: 149919.11782099312\n",
            "Epoch 4/10, Loss: 128320.63745566206\n",
            "Epoch 5/10, Loss: 112850.68159554474\n",
            "Epoch 6/10, Loss: 101309.17457503497\n",
            "Epoch 7/10, Loss: 92298.85461174595\n",
            "Epoch 8/10, Loss: 84991.15366778008\n",
            "Epoch 9/10, Loss: 78946.78579637785\n",
            "Epoch 10/10, Loss: 73891.82927887805\n"
          ]
        },
        {
          "output_type": "display_data",
          "data": {
            "text/plain": [
              "<Figure size 640x480 with 1 Axes>"
            ],
            "image/png": "[encoded data removed]"
          },
          "metadata": {}
        }
      ]
    },
    {
      "cell_type": "markdown",
      "source": [
        "#Embedding Vector"
      ],
      "metadata": {
        "id": "IL_mWo4qy1xs"
      }
    },
    {
      "cell_type": "code",
      "source": [
        "from scipy.spatial.distance import cosine\n",
        "\n",
        "def cosine_similarity(vec1, vec2):\n",
        "    return 1 - cosine(vec1, vec2)\n",
        "\n",
        "# Ví dụ đánh giá tương đồng giữa các từ\n",
        "word1_idx = word_to_index['mua']\n",
        "word2_idx = word_to_index['sắm']\n",
        "\n",
        "# Ví dụ đánh giá đối lập giữa các từ\n",
        "word3_idx = word_to_index['mua']\n",
        "word4_idx = word_to_index['bán']\n",
        "\n",
        "\n",
        "# Ví dụ đánh giá thông thường giữa các từ\n",
        "word5_idx = word_to_index['mua']\n",
        "word6_idx = word_to_index['xây']\n",
        "\n",
        "similarity = cosine_similarity(model.W1[word1_idx], model.W1[word2_idx])\n",
        "print(f\"Cosine similarity between 'mua' and 'sắm': {similarity}\")\n",
        "\n",
        "\n",
        "similarity = cosine_similarity(model.W1[word3_idx], model.W1[word4_idx])\n",
        "print(f\"Cosine similarity between 'mua' and 'bán': {similarity}\")\n",
        "\n",
        "\n",
        "similarity = cosine_similarity(model.W1[word5_idx], model.W1[word6_idx])\n",
        "print(f\"Cosine similarity between 'mua' and 'xây': {similarity}\")\n",
        "\n"
      ],
      "metadata": {
        "colab": {
          "base_uri": "https://localhost:8080/"
        },
        "id": "utRg7FciuabR",
        "outputId": "5af5ce91-dcca-4ef3-9db7-4bdfaad261ae"
      },
      "execution_count": null,
      "outputs": [
        {
          "output_type": "stream",
          "name": "stdout",
          "text": [
            "Cosine similarity between 'mua' and 'sắm': 0.39516576845602813\n",
            "Cosine similarity between 'mua' and 'bán': 0.22240137245069247\n",
            "Cosine similarity between 'mua' and 'xây': 0.2838234007314203\n"
          ]
        }
      ]
    }
  ]
}